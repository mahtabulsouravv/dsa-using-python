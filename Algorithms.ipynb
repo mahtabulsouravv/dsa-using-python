{
  "nbformat": 4,
  "nbformat_minor": 0,
  "metadata": {
    "colab": {
      "provenance": [],
      "authorship_tag": "ABX9TyPCV5O+0a9DKsG4ZXQwifUJ",
      "include_colab_link": true
    },
    "kernelspec": {
      "name": "python3",
      "display_name": "Python 3"
    },
    "language_info": {
      "name": "python"
    }
  },
  "cells": [
    {
      "cell_type": "markdown",
      "metadata": {
        "id": "view-in-github",
        "colab_type": "text"
      },
      "source": [
        "<a href=\"https://colab.research.google.com/github/mahtabulsouravv/dsa-using-python/blob/main/Algorithms.ipynb\" target=\"_parent\"><img src=\"https://colab.research.google.com/assets/colab-badge.svg\" alt=\"Open In Colab\"/></a>"
      ]
    },
    {
      "cell_type": "markdown",
      "source": [
        "# Algorithms and Complexity Analysis in Python\n",
        "\n",
        "## Introduction\n",
        "This notebook is designed to help you understand algorithms step by step, along with their implementation in Python and time complexity analysis.\n",
        "\n",
        "## Table of Contents\n",
        "1. **Sorting Algorithms**\n",
        "    - Bubble Sort\n",
        "    - Selection Sort\n",
        "    - Insertion Sort\n",
        "    - Merge Sort\n",
        "    - Quick Sort\n",
        "\n",
        "2. **Searching Algorithms**\n",
        "    - Linear Search\n",
        "    - Binary Search\n",
        "\n",
        "3. **Recursion and Backtracking**\n",
        "    - Factorial Calculation\n",
        "    - Fibonacci Series\n",
        "    - N-Queens Problem\n",
        "   \n",
        "4. **Graph Algorithms**\n",
        "    - Breadth-First Search (BFS)\n",
        "    - Depth-First Search (DFS)\n",
        "    - Dijkstra’s Algorithm\n",
        "    - Kruskal’s Algorithm\n",
        "    - Prim’s Algorithm\n",
        "\n",
        "5. **Dynamic Programming**\n",
        "    - Fibonacci (Top-Down and Bottom-Up)\n",
        "    - Knapsack Problem\n",
        "    - Longest Common Subsequence\n",
        "\n",
        "6. **Greedy Algorithms**\n",
        "    - Coin Change Problem\n",
        "    - Huffman Encoding\n",
        "\n",
        "## Conclusion\n",
        "This notebook will guide you in mastering algorithmic thinking, Python coding, and efficiency analysis. Let's get started!\n",
        "\n"
      ],
      "metadata": {
        "id": "PN5LteAxltbC"
      }
    },
    {
      "cell_type": "markdown",
      "source": [
        "## Sorting Algorithms\n",
        "\n",
        "### **- Bubble Sort**\n",
        "#### Problem Statement:\n",
        "Bubble Sort is a simple sorting algorithm that repeatedly steps through the list, compares adjacent elements, and swaps them if they are in the wrong order. The pass through the list is repeated until the list is sorted.\n",
        "\n",
        "#### Step-by-Step Explanation:\n",
        "1. Start from the first element of the array.\n",
        "2. Compare the current element with the next element.\n",
        "3. If the current element is greater than the next element, swap them.\n",
        "4. Move to the next element and repeat the process for the entire array.\n",
        "5. Repeat steps 1-4 for all elements until no more swaps are needed.\n",
        "\n",
        "#### Python Implementation:"
      ],
      "metadata": {
        "id": "Xv0eqHdPmiz3"
      }
    },
    {
      "cell_type": "code",
      "source": [
        "# Bubble Sort Code\n",
        "\n",
        "def bubblesort(arr):\n",
        "    n = len(arr)\n",
        "    # Outer Loop\n",
        "    for i in range(n):\n",
        "        swapped = False\n",
        "        # Inner Loop\n",
        "        for j in range(0, n - i - 1):\n",
        "            if arr[j] > arr[j+1]:\n",
        "                arr[j], arr[j+1] = arr[j+1], arr[j]\n",
        "                swapped = True\n",
        "        if not swapped:\n",
        "            break\n",
        "\n",
        "# Input\n",
        "arr = [6, 3, 812, 46, 2]\n",
        "bubblesort(arr)\n",
        "print(f\"Sorted Array: {arr}\")\n"
      ],
      "metadata": {
        "colab": {
          "base_uri": "https://localhost:8080/"
        },
        "id": "XpuWQZ18nNxH",
        "outputId": "c26870f3-183a-446f-bf12-6db670becac0"
      },
      "execution_count": null,
      "outputs": [
        {
          "output_type": "stream",
          "name": "stdout",
          "text": [
            "Sorted Array: [2, 3, 6, 46, 812]\n"
          ]
        }
      ]
    },
    {
      "cell_type": "markdown",
      "source": [
        "#### Complexity Analysis:\n",
        "- **Time Complexity:**\n",
        "  - Best Case: O(n) (Already sorted array)\n",
        "  - Average Case: O(n²)\n",
        "  - Worst Case: O(n²)\n",
        "- **Space Complexity:** O(1) (Sorting is done in-place)\n",
        "\n",
        "---"
      ],
      "metadata": {
        "id": "Ab6mVNBQndhB"
      }
    },
    {
      "cell_type": "markdown",
      "source": [
        "## **- Selection Sort**\n",
        "\n",
        "### Problem Statement:\n",
        "Selection Sort is a sorting algorithm that divides the input array into two parts: a sorted and an unsorted part. It repeatedly selects the smallest element from the unsorted part and swaps it with the first unsorted element. This process continues until the entire array is sorted.\n",
        "\n",
        "### Step-by-Step Explanation:\n",
        "1. Start from the first element of the array.\n",
        "2. Find the smallest element in the unsorted part of the array.\n",
        "3. Swap the smallest element with the first unsorted element.\n",
        "4. Move the boundary between the sorted and unsorted parts one step forward.\n",
        "5. Repeat steps 2-4 until the entire array is sorted.\n",
        "\n",
        "### Python Implementation:"
      ],
      "metadata": {
        "id": "S8gRDz_axqPo"
      }
    },
    {
      "cell_type": "code",
      "source": [
        "# Selection Sort"
      ],
      "metadata": {
        "id": "bAiKDYasxtU2"
      },
      "execution_count": null,
      "outputs": []
    },
    {
      "cell_type": "markdown",
      "source": [
        "#### Complexity Analysis:\n",
        "\n",
        "- **Time Complexity:**  \n",
        "  - Best Case: **O(n²)** (Even if the array is already sorted, Selection Sort still scans the entire array to find the minimum.)  \n",
        "  - Average Case: **O(n²)** (Requires scanning the unsorted part of the array for each element.)  \n",
        "  - Worst Case: **O(n²)** (Occurs when the array is sorted in reverse order.)  \n",
        "\n",
        "- **Space Complexity:** **O(1)** (Sorting is done in-place without requiring extra memory.)\n",
        "\n",
        "---"
      ],
      "metadata": {
        "id": "zVcIQkFOxwP3"
      }
    }
  ]
}