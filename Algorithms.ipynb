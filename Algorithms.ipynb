{
  "nbformat": 4,
  "nbformat_minor": 0,
  "metadata": {
    "colab": {
      "provenance": [],
      "authorship_tag": "ABX9TyOP1U39anfnYJvTtLfZYEjY",
      "include_colab_link": true
    },
    "kernelspec": {
      "name": "python3",
      "display_name": "Python 3"
    },
    "language_info": {
      "name": "python"
    }
  },
  "cells": [
    {
      "cell_type": "markdown",
      "metadata": {
        "id": "view-in-github",
        "colab_type": "text"
      },
      "source": [
        "<a href=\"https://colab.research.google.com/github/mahtabulsouravv/dsa-using-python/blob/main/Algorithms.ipynb\" target=\"_parent\"><img src=\"https://colab.research.google.com/assets/colab-badge.svg\" alt=\"Open In Colab\"/></a>"
      ]
    },
    {
      "cell_type": "markdown",
      "source": [
        "# Algorithms and Complexity Analysis in Python\n",
        "\n",
        "## Introduction\n",
        "This notebook is designed to help you understand algorithms step by step, along with their implementation in Python and time complexity analysis.\n",
        "\n",
        "## Table of Contents\n",
        "1. **Sorting Algorithms**\n",
        "    - Bubble Sort\n",
        "    - Selection Sort\n",
        "    - Insertion Sort\n",
        "    - Merge Sort\n",
        "    - Quick Sort\n",
        "\n",
        "2. **Searching Algorithms**\n",
        "    - Linear Search\n",
        "    - Binary Search\n",
        "\n",
        "3. **Recursion and Backtracking**\n",
        "    - Factorial Calculation\n",
        "    - Fibonacci Series\n",
        "    - N-Queens Problem\n",
        "   \n",
        "4. **Graph Algorithms**\n",
        "    - Breadth-First Search (BFS)\n",
        "    - Depth-First Search (DFS)\n",
        "    - Dijkstra’s Algorithm\n",
        "    - Kruskal’s Algorithm\n",
        "    - Prim’s Algorithm\n",
        "\n",
        "5. **Dynamic Programming**\n",
        "    - Fibonacci (Top-Down and Bottom-Up)\n",
        "    - Knapsack Problem\n",
        "    - Longest Common Subsequence\n",
        "\n",
        "6. **Greedy Algorithms**\n",
        "    - Coin Change Problem\n",
        "    - Huffman Encoding\n",
        "\n",
        "## Conclusion\n",
        "This notebook will guide you in mastering algorithmic thinking, Python coding, and efficiency analysis. Let's get started!\n",
        "\n"
      ],
      "metadata": {
        "id": "PN5LteAxltbC"
      }
    },
    {
      "cell_type": "markdown",
      "source": [
        "## Sorting Algorithms\n",
        "\n",
        "### **✔ Bubble Sort**\n",
        "Bubble Sort is a simple sorting algorithm that repeatedly steps through the list, compares adjacent elements, and swaps them if they are in the wrong order. The pass through the list is repeated until the list is sorted.\n",
        "\n",
        "#### Step-by-Step Explanation:\n",
        "1. Start from the first element of the array.\n",
        "2. Compare the current element with the next element.\n",
        "3. If the current element is greater than the next element, swap them.\n",
        "4. Move to the next element and repeat the process for the entire array.\n",
        "5. Repeat steps 1-4 for all elements until no more swaps are needed.\n",
        "\n",
        "#### Python Implementation:"
      ],
      "metadata": {
        "id": "Xv0eqHdPmiz3"
      }
    },
    {
      "cell_type": "code",
      "source": [
        "# Bubble Sort Code\n",
        "\n",
        "def bubble_sort(arr):\n",
        "    n = len(arr)\n",
        "    # Outer Loop\n",
        "    for i in range(n):\n",
        "        swapped = False\n",
        "        # Inner Loop\n",
        "        for j in range(0, n - i - 1):\n",
        "            if arr[j] > arr[j+1]:\n",
        "                arr[j], arr[j+1] = arr[j+1], arr[j]\n",
        "                swapped = True\n",
        "        if not swapped:\n",
        "            break\n",
        "\n",
        "# Input\n",
        "arr = [64, 25, 12, 22, 11]\n",
        "bubble_sort(arr)\n",
        "print(f\"Sorted array: {arr}\")"
      ],
      "metadata": {
        "colab": {
          "base_uri": "https://localhost:8080/"
        },
        "id": "XpuWQZ18nNxH",
        "outputId": "469500dc-fe3f-4df3-a57a-586a07c891cd"
      },
      "execution_count": 12,
      "outputs": [
        {
          "output_type": "stream",
          "name": "stdout",
          "text": [
            "Sorted array: [11, 12, 22, 25, 64]\n"
          ]
        }
      ]
    },
    {
      "cell_type": "markdown",
      "source": [
        "#### Complexity Analysis:\n",
        "- **Time Complexity:**\n",
        "  - Best Case: O(n) (Already sorted array)\n",
        "  - Average Case: O(n²)\n",
        "  - Worst Case: O(n²)\n",
        "- **Space Complexity:** O(1) (Sorting is done in-place)\n",
        "\n",
        "---"
      ],
      "metadata": {
        "id": "Ab6mVNBQndhB"
      }
    },
    {
      "cell_type": "markdown",
      "source": [
        "### **✔ Selection Sort**\n",
        "Selection Sort is a sorting algorithm that divides the input array into two parts: a sorted and an unsorted part. It repeatedly selects the smallest element from the unsorted part and swaps it with the first unsorted element. This process continues until the entire array is sorted.\n",
        "\n",
        "### Step-by-Step Explanation:\n",
        "1. Start from the first element of the array.\n",
        "2. Find the smallest element in the unsorted part of the array.\n",
        "3. Swap the smallest element with the first unsorted element.\n",
        "4. Move the boundary between the sorted and unsorted parts one step forward.\n",
        "5. Repeat steps 2-4 until the entire array is sorted.\n",
        "\n",
        "### Python Implementation:"
      ],
      "metadata": {
        "id": "S8gRDz_axqPo"
      }
    },
    {
      "cell_type": "code",
      "source": [
        "# Selection Sort\n",
        "\n",
        "def selection_sort(arr):\n",
        "    n = len(arr)\n",
        "    for i in range(n):\n",
        "        cur_min_index = i\n",
        "        for j in range(i + 1, n):\n",
        "            if arr[j] < arr[cur_min_index]:\n",
        "                cur_min_index = j\n",
        "        arr[i], arr[cur_min_index] = arr[cur_min_index], arr[i]  # Swap\n",
        "\n",
        "# Input\n",
        "arr = [64, 25, 12, 22, 11]\n",
        "selection_sort(arr)\n",
        "print(\"Sorted array:\", arr)"
      ],
      "metadata": {
        "id": "bAiKDYasxtU2",
        "colab": {
          "base_uri": "https://localhost:8080/"
        },
        "outputId": "066d7e07-5b22-4884-f870-bc2533768f55"
      },
      "execution_count": 13,
      "outputs": [
        {
          "output_type": "stream",
          "name": "stdout",
          "text": [
            "Sorted array: [11, 12, 22, 25, 64]\n"
          ]
        }
      ]
    },
    {
      "cell_type": "markdown",
      "source": [
        "#### Complexity Analysis:\n",
        "\n",
        "- **Time Complexity:**  \n",
        "  - Best Case: **O(n²)** (Even if the array is already sorted, Selection Sort still scans the entire array to find the minimum.)  \n",
        "  - Average Case: **O(n²)** (Requires scanning the unsorted part of the array for each element.)  \n",
        "  - Worst Case: **O(n²)** (Occurs when the array is sorted in reverse order.)  \n",
        "\n",
        "- **Space Complexity:** **O(1)** (Sorting is done in-place without requiring extra memory.)\n",
        "\n",
        "---"
      ],
      "metadata": {
        "id": "zVcIQkFOxwP3"
      }
    },
    {
      "cell_type": "markdown",
      "source": [
        "### **✔ Merge Sort**  \n",
        "Merge Sort is a **divide-and-conquer** sorting algorithm that splits the array into halves, sorts them recursively, and merges the sorted halves back together.  \n",
        "\n",
        "### Step-by-Step Explanation:  \n",
        "1. Divide the array into two halves.  \n",
        "2. Recursively sort both halves.  \n",
        "3. Merge the two sorted halves into a single sorted array.  \n",
        "4. Continue until the entire array is sorted.  \n",
        "\n",
        "### Python Implementation:  "
      ],
      "metadata": {
        "id": "iq91QYSm_3vP"
      }
    },
    {
      "cell_type": "code",
      "source": [
        "# Merge Sort\n",
        "\n",
        "def merge_sort(arr):\n",
        "    if len(arr) > 1:\n",
        "        mid = len(arr) // 2\n",
        "        # :3 Start To 3 & 3: 3 To End! Slice Of Origin Arr!\n",
        "        left_half = arr[:mid]\n",
        "        right_half = arr[mid:]\n",
        "\n",
        "        # Recursion\n",
        "        merge_sort(left_half)\n",
        "        merge_sort(right_half)\n",
        "\n",
        "        # Merge Part (i = Left Arr Idx, j = Right Arr Idx, k = Merge Arr Idx)\n",
        "        i = j = k = 0\n",
        "        while i < len(left_half) and j < len(right_half):\n",
        "            if left_half[i] < right_half[j]:\n",
        "                arr[k] = left_half[i]\n",
        "                i += 1\n",
        "            else:\n",
        "                arr[k] = right_half[j]\n",
        "                j += 1\n",
        "            k += 1\n",
        "\n",
        "        while i < len(left_half):\n",
        "            arr[k] = left_half[i]\n",
        "            i += 1\n",
        "            k += 1\n",
        "\n",
        "        while j < len(right_half):\n",
        "            arr[k] = right_half[j]\n",
        "            j += 1\n",
        "            k += 1\n",
        "\n",
        "# Input\n",
        "arr = [64, 25, 12, 22, 11]\n",
        "merge_sort(arr)\n",
        "print(\"Sorted array:\", arr)"
      ],
      "metadata": {
        "colab": {
          "base_uri": "https://localhost:8080/"
        },
        "id": "FYh6hlT5_8Bv",
        "outputId": "a56f334b-33d3-4232-8233-3cd5798a13e8"
      },
      "execution_count": 11,
      "outputs": [
        {
          "output_type": "stream",
          "name": "stdout",
          "text": [
            "Sorted array: [11, 12, 22, 25, 64]\n"
          ]
        }
      ]
    },
    {
      "cell_type": "markdown",
      "source": [
        "#### Complexity Analysis:  \n",
        "\n",
        "- **Time Complexity:**  \n",
        "  - Best Case: **O(n log n)**  \n",
        "  - Average Case: **O(n log n)**  \n",
        "  - Worst Case: **O(n log n)**  \n",
        "\n",
        "- **Space Complexity:** **O(n)** (Extra space is used for merging subarrays)  \n",
        "\n",
        "---"
      ],
      "metadata": {
        "id": "y5OmY2AwGgfe"
      }
    },
    {
      "cell_type": "markdown",
      "source": [
        "### **✔ Quick Sort**  \n",
        "Quick Sort is a **divide-and-conquer** algorithm that selects a **pivot** element and partitions the array into two subarrays: elements smaller than the pivot and elements greater than the pivot. It then recursively sorts the subarrays.  \n",
        "\n",
        "### Step-by-Step Explanation:  \n",
        "1. Choose a pivot element (commonly the last element).  \n",
        "2. Partition the array so that smaller elements move left and larger ones move right.  \n",
        "3. Recursively apply Quick Sort to the left and right subarrays.  \n",
        "4. Continue until the array is fully sorted.  \n",
        "\n",
        "### Python Implementation:  "
      ],
      "metadata": {
        "id": "GIpY6pvkGxf_"
      }
    },
    {
      "cell_type": "code",
      "source": [
        "# Quick Sort\n",
        "\n",
        "def partition(arr, low, high):\n",
        "    pivot = arr[high]\n",
        "    i = low - 1\n",
        "    for j in range(low, high):\n",
        "        if arr[j] < pivot:\n",
        "            i += 1\n",
        "            arr[i], arr[j] = arr[j], arr[i]\n",
        "    arr[i + 1], arr[high] = arr[high], arr[i + 1]\n",
        "    return i + 1\n",
        "\n",
        "def quick_sort(arr, low, high):\n",
        "    if low < high:\n",
        "        pi = partition(arr, low, high)\n",
        "        quick_sort(arr, low, pi - 1)\n",
        "        quick_sort(arr, pi + 1, high)\n",
        "\n",
        "# Input\n",
        "arr = [64, 25, 12, 22, 11]\n",
        "quick_sort(arr, 0, len(arr) - 1)\n",
        "print(\"Sorted array:\", arr)"
      ],
      "metadata": {
        "id": "MeasttnpGzhd"
      },
      "execution_count": null,
      "outputs": []
    },
    {
      "cell_type": "markdown",
      "source": [
        "#### Complexity Analysis:  \n",
        "\n",
        "- **Time Complexity:**  \n",
        "  - Best Case: **O(n log n)** (Balanced partitioning)  \n",
        "  - Average Case: **O(n log n)** (Random partitioning)  \n",
        "  - Worst Case: **O(n²)** (If the smallest or largest element is always chosen as the pivot)  \n",
        "\n",
        "- **Space Complexity:** **O(log n)** (Recursive function calls)  \n",
        "\n",
        "---"
      ],
      "metadata": {
        "id": "RL-4MO28G4F1"
      }
    }
  ]
}